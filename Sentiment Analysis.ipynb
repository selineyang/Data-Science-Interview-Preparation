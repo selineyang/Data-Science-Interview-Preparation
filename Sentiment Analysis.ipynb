{
 "cells": [
  {
   "cell_type": "markdown",
   "metadata": {},
   "source": [
    "# Sentiment Analysis\n",
    "- step1: tokenization --> collect opinions, i.e. 'The movie was great'\n",
    "- step2: clean the data\n",
    "- step3: remove stop words, i.e. 'The movie was great'-->'movie gerat'\n",
    "- step4: classification, apply supervised algorithm for classification\n",
    "- step5: calculation"
   ]
  },
  {
   "cell_type": "markdown",
   "metadata": {},
   "source": [
    "#### What is Polarity?\n",
    "- identify sentiment orientation (positive, neutral, negative)\n",
    "- lies in the range of [-1,1], where 1 means positive statement and -1 means a negative statement "
   ]
  },
  {
   "cell_type": "markdown",
   "metadata": {},
   "source": [
    "#### What is Subjectivity?\n",
    "- to express of opinions, evauations & feelings and thus incorperates sentiment\n",
    "- may not express any sentiment"
   ]
  },
  {
   "cell_type": "markdown",
   "metadata": {},
   "source": [
    "#### Example:\n",
    "Find out the Sentiment Analytics (Polarity & Subjectivity) of the following customers: <br>\n",
    "Customer 1 - The food at Randissson was Excellent <br>\n",
    "Customer 2 - The food at Randisson was Good <br>\n",
    "Customer 3 - The food at Randisson was Average <br>\n",
    "\n",
    "We can define Polarity: Excellent=2, Good=1, Average=0\n",
    "\n"
   ]
  },
  {
   "cell_type": "code",
   "execution_count": null,
   "metadata": {},
   "outputs": [],
   "source": []
  }
 ],
 "metadata": {
  "kernelspec": {
   "display_name": "Python 3",
   "language": "python",
   "name": "python3"
  },
  "language_info": {
   "codemirror_mode": {
    "name": "ipython",
    "version": 3
   },
   "file_extension": ".py",
   "mimetype": "text/x-python",
   "name": "python",
   "nbconvert_exporter": "python",
   "pygments_lexer": "ipython3",
   "version": "3.8.3"
  }
 },
 "nbformat": 4,
 "nbformat_minor": 4
}

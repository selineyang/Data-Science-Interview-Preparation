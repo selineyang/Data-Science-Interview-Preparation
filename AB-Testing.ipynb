{
 "cells": [
  {
   "cell_type": "markdown",
   "metadata": {},
   "source": [
    "# A/B testing "
   ]
  },
  {
   "cell_type": "markdown",
   "metadata": {},
   "source": [
    "## What is the goal of A/B Testing?\n",
    "- It is a hypothesis testing for a randomized experiment with two variables A and B. The goal of A/B testing is to identify any changes to the web page to maximize or increase the outcome of interest. \n",
    "- to determine whether or not the new product or the new feature is somthing that user will like.\n",
    "- A/B testing is a fantastic method for figuring out the best online promotional and marketing strategies for your business. An example of this could be identifiying the click-through rate for a banner ad."
   ]
  },
  {
   "cell_type": "markdown",
   "metadata": {},
   "source": [
    "## How to set up experiments?\n",
    "- **significance**: we bee a criteria/statistic/standard/method for decision making: hypothesis testing gives us p-value to make decision. When P<=0.05, we reject the null, A and B are significantly different.\n",
    "\n",
    "- **randomization** to remove sample bias: assign treatment and control to the units randomly. The units in each groups have the same distribution (remove sample bias), make sure it is apple to apple comparison.\n",
    "\n",
    "- **multiple testing/multiple comparison** problem: Type I error: when NH is true, we rejet the Null. It we have more tests, then we will have more type 1 error. "
   ]
  },
  {
   "cell_type": "markdown",
   "metadata": {},
   "source": [
    "## How to design an Experiment?\n",
    "- subject\n",
    "- population \n",
    "- Size\n",
    "- Duration"
   ]
  },
  {
   "cell_type": "markdown",
   "metadata": {},
   "source": [
    "## What is P-value?\n",
    "- How to use: When we perfrm hypothesis testing, a p-value can help determine the strengh of the results. P-value is the minimum significance level when you reject the null hypothesis. The lower the p-value, the more likely you reject the null hypothesis. <br>\n",
    "P-value is for decision making, we need a criteria/statistics/standard/method for our hypothesis testing. When p<=0.05, we reject the null, accept the alternative hypothesis, A and B are significantly different. <br>\n",
    "\n",
    "- Math behind it: It is the probability of an extreme case, under the null hypothesis is true. Extreme case: When A and B have no difference, we find difference between A and B. A very small p-value means that such an extreme observed outcome would be very unlikely under the null pypothesis."
   ]
  },
  {
   "cell_type": "markdown",
   "metadata": {},
   "source": [
    "## How to calculate sample size?\n",
    "- use software\n",
    "- Can we calculate by hand? \n",
    "- **Design the experiement**: $\\alpha$ , $\\beta$ \n",
    "- $Sensitivity=1-\\beta$, often 80%"
   ]
  },
  {
   "cell_type": "markdown",
   "metadata": {},
   "source": [
    "## What are the assumptions when conducting a t-test?\n",
    "- central limit theorem (CLT): when n is large, iid"
   ]
  },
  {
   "cell_type": "markdown",
   "metadata": {},
   "source": [
    "## Metric definition\n",
    "- broad definition, each company has a different criteria\n",
    "- Common ones: Click-through-rate, click-through probability\n",
    "$$click-through-rate= \\frac{\\#clicks}{\\#pageviews}$$\n",
    "<br>\n",
    "$$click-through-probability = \\frac{\\#unique-visitors-who-click}{\\#unique-visitors-to-page}$$\n",
    "<br>\n",
    "$$cookie-probability= \\frac{\\#cookies-that-click}{\\#cookies}$$ For a given time interval\n",
    "- Diffifult metrics: don't have access to data, takes too long to collect the data"
   ]
  },
  {
   "cell_type": "markdown",
   "metadata": {},
   "source": [
    "## Binomial Distribution\n",
    "- **When you can use**: there are two different outcomes - success & failure, events are indipendent, identical distribution - p is the same for all\n",
    "- $\\hat{p}=\\frac{X}{N}$, X=#users who clicked, N=#users\n",
    "- Probability Mass function: $Pr(X=k)={{n}\\choose {k}} p^k (1-p)^{n-k}$ \n",
    "- $E[X]=np$\n",
    "- $Var(X) =np(1-p)$, standard deviation is the square root of variance\n",
    "- $SE=\\sqrt {\\frac{p(1-p)}{N}}$, if we increase p, then SE will increase, so we need to increase the sample size N. If we have big change, then less sample needed to detect\n",
    "- $m.error=z*SE$"
   ]
  },
  {
   "cell_type": "markdown",
   "metadata": {},
   "source": [
    "## Compare two samples \n",
    "- we have the experiment group and the control group \n",
    "- **Hypothesis Testing**:\n",
    "$$H_O: P_{exp} - P_{cont}=0$$\n",
    "$$H_A: P_{exp} - P_{cont} \\neq 0$$\n",
    "- pool probability:\n",
    "$$\\hat{p}_{pool}= \\frac{X_{cont}+X_{exp}}{N_{cont}+N_{exp}} $$\n",
    "<br>\n",
    "$$SE_{pool}= \\sqrt {p_{pool}*(1-p_{pool})*(1/N_{cont}+1/N_{exp})}$$\n"
   ]
  },
  {
   "cell_type": "code",
   "execution_count": null,
   "metadata": {},
   "outputs": [],
   "source": []
  }
 ],
 "metadata": {
  "kernelspec": {
   "display_name": "Python 3",
   "language": "python",
   "name": "python3"
  },
  "language_info": {
   "codemirror_mode": {
    "name": "ipython",
    "version": 3
   },
   "file_extension": ".py",
   "mimetype": "text/x-python",
   "name": "python",
   "nbconvert_exporter": "python",
   "pygments_lexer": "ipython3",
   "version": "3.8.3"
  }
 },
 "nbformat": 4,
 "nbformat_minor": 4
}
